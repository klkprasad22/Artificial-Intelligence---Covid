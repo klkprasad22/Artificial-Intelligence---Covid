{
 "cells": [
  {
   "cell_type": "markdown",
   "metadata": {},
   "source": [
    "## Important Imports"
   ]
  },
  {
   "cell_type": "code",
   "execution_count": null,
   "metadata": {},
   "outputs": [],
   "source": [
    "import cv2\n",
    "import tensorflow as tf\n",
    "import numpy as np\n",
    "from sklearn.metrics import confusion_matrix\n",
    "import pandas as pd\n",
    "import matplotlib.pyplot as plt\n",
    "\n"
   ]
  },
  {
   "cell_type": "code",
   "execution_count": null,
   "metadata": {},
   "outputs": [],
   "source": [
    "from test_functions import idx_gen #index_generator\n",
    "from test_functions import lable_loading #load_labels\n",
    "from test_functions import con_data #data_constructor\n",
    "from test_functions import data_frame_generator#dataframe_generator\n",
    "from test_functions import idx_extr#index_extractor\n",
    "from test_functions import c_matrix # plot_confusion_matrix\n",
    "from test_functions import labels_updater #phase1_labels_updater"
   ]
  },
  {
   "cell_type": "markdown",
   "metadata": {},
   "source": [
    "## Setting up parameters and directories"
   ]
  },
  {
   "cell_type": "code",
   "execution_count": null,
   "metadata": {},
   "outputs": [],
   "source": [
    "image_height = 128\n",
    "image_width = 128\n",
    "DIM = (128,128)\n",
    "test_data_set= 5000\n",
    "SEED=12 \n",
    "label_file_test = \"/home/pramod/COVID-19_Detection/image/archive/test_COVIDx_CT-2A.txt\""
   ]
  },
  {
   "cell_type": "markdown",
   "metadata": {},
   "source": [
    "## Loading test data"
   ]
  },
  {
   "cell_type": "code",
   "execution_count": null,
   "metadata": {},
   "outputs": [],
   "source": [
    "fnames_test , classes_test , bboxes_test = lable_loading(label_file_test)\n",
    "test_index = idx_gen(fnames_test , test_data_set)\n",
    "df = data_frame_generator(test_index,classes_test)\n",
    "df.plot.bar( title = \"ORIGNAL\" );\n",
    "print(\"FINAL IMAGE COUNT:\")\n",
    "print(\"Total Training Images = \",len(test_index))\n",
    "plt.savefig('test_data.png', bbox_inches='tight')"
   ]
  },
  {
   "cell_type": "markdown",
   "metadata": {},
   "source": [
    "### Loading images for Phase - 1 testing"
   ]
  },
  {
   "cell_type": "code",
   "execution_count": null,
   "metadata": {},
   "outputs": [],
   "source": [
    "# print(\"fnames\",fnames_test)\n",
    "densenet_x, densenet_y = con_data(fnames_test,classes_test, DIM , index=test_index , bboxes = bboxes_test)\n",
    "densenet_x = tf.keras.applications.densenet.preprocess_input(densenet_x)\n",
    "desnenet_y = labels_updater(densenet_y)\n",
    "densenet_x.shape , densenet_y.shape"
   ]
  },
  {
   "cell_type": "markdown",
   "metadata": {},
   "source": [
    "### Loading Phase-1 Trained Model"
   ]
  },
  {
   "cell_type": "code",
   "execution_count": null,
   "metadata": {},
   "outputs": [],
   "source": [
    "phase1_model = tf.keras.models.load_model(\"/home/pramod/COVID-19_Detection/models/phase-1.h5\")\n",
    "densenet = phase1_model.evaluate(densenet_x, densenet_y)"
   ]
  },
  {
   "cell_type": "markdown",
   "metadata": {},
   "source": [
    "### Predicting NON-COVID and COVID-19"
   ]
  },
  {
   "cell_type": "code",
   "execution_count": null,
   "metadata": {},
   "outputs": [],
   "source": [
    "densenet_preds = phase1_model.predict(densenet_x)\n",
    "densenet_preds = np.rint(densenet_preds).astype(\"int\")\n",
    "densenet_preds= densenet_preds.reshape(test_data_set)"
   ]
  },
  {
   "cell_type": "markdown",
   "metadata": {},
   "source": [
    "## CONFUSION MATRIX of PHASE -1 "
   ]
  },
  {
   "cell_type": "code",
   "execution_count": null,
   "metadata": {},
   "outputs": [],
   "source": [
    "cm1 = confusion_matrix(densenet_y ,densenet_preds)\n",
    "c_matrix(cm1,[\"Non-COVID\",\"COVID-19\"] )\n",
    "plt.savefig('c_mtx.png', bbox_inches='tight')"
   ]
  }
 ],
 "metadata": {
  "kernelspec": {
   "display_name": "Python 3",
   "language": "python",
   "name": "python3"
  },
  "language_info": {
   "codemirror_mode": {
    "name": "ipython",
    "version": 3
   },
   "file_extension": ".py",
   "mimetype": "text/x-python",
   "name": "python",
   "nbconvert_exporter": "python",
   "pygments_lexer": "ipython3",
   "version": "3.7.6"
  }
 },
 "nbformat": 4,
 "nbformat_minor": 5
}
